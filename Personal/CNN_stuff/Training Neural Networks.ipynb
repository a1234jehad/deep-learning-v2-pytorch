{
 "cells": [
  {
   "cell_type": "markdown",
   "id": "43d9d35b",
   "metadata": {},
   "source": [
    "# Training Neural Networks\n",
    "\n",
    "In this exercise, you will train a neural network using PyTorch. You will be provided some starter code and will fill in the blanks.\n",
    "\n",
    "This will walk through the entire process, from loading datasets to creating transforms, all the way through to creating the network code and training it to classify the CIFAR-10 dataset.\n"
   ]
  },
  {
   "cell_type": "code",
   "execution_count": 1,
   "id": "0494aa9c",
   "metadata": {},
   "outputs": [],
   "source": [
    "# DO NOT EDIT THIS CELL\n",
    "import torch\n",
    "from torch import nn\n",
    "from torch import optim\n",
    "import torch.nn.functional as F\n",
    "from torch.utils.data import DataLoader\n",
    "from torchvision import transforms\n",
    "from torchvision import datasets\n",
    "import matplotlib.pyplot as plt"
   ]
  },
  {
   "cell_type": "markdown",
   "id": "4f67498f",
   "metadata": {},
   "source": [
    "## Loading and Preprocessing Data\n",
    "\n",
    "In this section, we will load and preprocess our data using any relevant methods from `transforms` and `datasets`.\n",
    "Then, we will create `DataLoader`s for our train and test sets.\n",
    "\n",
    "If you have trouble, feel free to consult the documentation for [transforms](https://pytorch.org/vision/0.12/transforms.html) and [CIFAR-10](https://pytorch.org/vision/stable/generated/torchvision.datasets.CIFAR10.html#torchvision.datasets.CIFAR10)\n"
   ]
  },
  {
   "cell_type": "code",
   "execution_count": 2,
   "id": "cbe23153",
   "metadata": {},
   "outputs": [
    {
     "name": "stdout",
     "output_type": "stream",
     "text": [
      "Files already downloaded and verified\n",
      "Files already downloaded and verified\n"
     ]
    }
   ],
   "source": [
    "# Establish our transform\n",
    "transform = transforms.Compose(\n",
    "    [\n",
    "        transforms.ToTensor(),\n",
    "        transforms.Normalize((0.5,), (0.5,)),\n",
    "    ]\n",
    ")\n",
    "\n",
    "# Load train and test datasets\n",
    "training_data = datasets.CIFAR10(\n",
    "    root=\"data\", train=True, download=True, transform=transform\n",
    ")\n",
    "test_data = datasets.CIFAR10(\n",
    "    root=\"data\", train=False, download=True, transform=transform\n",
    ")\n",
    "\n",
    "# Create the training and test dataloaders\n",
    "train_loader = DataLoader(training_data, batch_size=64, shuffle=True)\n",
    "test_loader = DataLoader(test_data, batch_size=64, shuffle=True)"
   ]
  },
  {
   "cell_type": "markdown",
   "id": "1c3ddf71",
   "metadata": {},
   "source": [
    "## Defining our Neural Network\n",
    "\n",
    "Once our data is loaded, we want to define our model.\n",
    "For this example, we want to use a fully-connected model, which means we will need to use the `flatten` method to take our 32 x 32 x 3 tensor and flatten it into a single input.\n",
    "\n",
    "We want to have at least 2 hidden layers.\n",
    "The input size of the first layer will need to account for the flattening and will be 32 _ 32 _ 3.\n",
    "Feel free to experiment here, and if you need additional help, consult the [PyTorch documentation](https://pytorch.org/docs/stable/nn.html)\n"
   ]
  },
  {
   "cell_type": "code",
   "execution_count": 3,
   "id": "9e3ed652",
   "metadata": {},
   "outputs": [],
   "source": [
    "# Define the class for your neural network\n",
    "class Net(nn.Module):\n",
    "    def __init__(self):\n",
    "        super().__init__()\n",
    "        self.activation = F.relu\n",
    "        self.layer1 = nn.Linear(3072, 200)\n",
    "        self.layer2 = nn.Linear(200, 100)\n",
    "        self.layer3 = nn.Linear(100, 10)\n",
    "\n",
    "    def forward(self, x):\n",
    "        x = torch.flatten(x, 1)  # flatten all dimensions except batch\n",
    "        x = self.activation(self.layer1(x))\n",
    "        x = self.activation(self.layer2(x))\n",
    "        x = self.layer3(x)\n",
    "        return x\n",
    "\n",
    "\n",
    "# Instantiate the model\n",
    "net = Net()"
   ]
  },
  {
   "cell_type": "markdown",
   "id": "443eb547",
   "metadata": {},
   "source": [
    "## Optimizer and Loss function\n",
    "\n",
    "Before we get into our training loop, we need to choose an optimizer and loss function for our network.\n"
   ]
  },
  {
   "cell_type": "code",
   "execution_count": 4,
   "id": "0019bb91",
   "metadata": {},
   "outputs": [],
   "source": [
    "# Choose an optimizer\n",
    "optimizer = optim.Adam(net.parameters(), lr=0.001)\n",
    "\n",
    "\n",
    "# Choose a loss function\n",
    "criterion = nn.CrossEntropyLoss()"
   ]
  },
  {
   "cell_type": "markdown",
   "id": "d3090c98",
   "metadata": {},
   "source": [
    "## Creating the Training Loop\n",
    "\n",
    "With our network, optimizer, and loss function, we can now begin the training step!\n",
    "Using the test set to validate our accuracy, we can see when our network has given us the best fit.\n"
   ]
  },
  {
   "cell_type": "code",
   "execution_count": 5,
   "id": "7a12770b",
   "metadata": {},
   "outputs": [
    {
     "name": "stdout",
     "output_type": "stream",
     "text": [
      "Epoch 1 training accuracy: 26.53% training loss: 1.64726\n",
      "Epoch 1 validation accuracy: 30.28% validation loss: 1.49291\n",
      "Epoch 2 training accuracy: 31.63% training loss: 1.43610\n",
      "Epoch 2 validation accuracy: 31.89% validation loss: 1.42370\n",
      "Epoch 3 training accuracy: 33.81% training loss: 1.33145\n",
      "Epoch 3 validation accuracy: 32.89% validation loss: 1.37959\n",
      "Epoch 4 training accuracy: 35.83% training loss: 1.24885\n",
      "Epoch 4 validation accuracy: 33.73% validation loss: 1.36445\n",
      "Epoch 5 training accuracy: 37.20% training loss: 1.18469\n",
      "Epoch 5 validation accuracy: 33.61% validation loss: 1.35309\n",
      "Epoch 6 training accuracy: 38.75% training loss: 1.12042\n",
      "Epoch 6 validation accuracy: 33.62% validation loss: 1.37296\n",
      "Epoch 7 training accuracy: 39.85% training loss: 1.06539\n",
      "Epoch 7 validation accuracy: 33.52% validation loss: 1.38418\n",
      "Epoch 8 training accuracy: 40.95% training loss: 1.01453\n",
      "Epoch 8 validation accuracy: 34.18% validation loss: 1.37074\n",
      "Epoch 9 training accuracy: 41.98% training loss: 0.96651\n",
      "Epoch 9 validation accuracy: 33.48% validation loss: 1.46416\n",
      "Epoch 10 training accuracy: 42.86% training loss: 0.92216\n",
      "Epoch 10 validation accuracy: 33.75% validation loss: 1.44194\n"
     ]
    }
   ],
   "source": [
    "num_epochs = 10\n",
    "\n",
    "# Establish a list for our history\n",
    "train_loss_history = list()\n",
    "val_loss_history = list()\n",
    "net.to(\"cuda\")\n",
    "for epoch in range(num_epochs):\n",
    "    net.train()\n",
    "    train_loss = 0.0\n",
    "    train_correct = 0\n",
    "    for i, data in enumerate(train_loader):\n",
    "        # data is a list of [inputs, labels]\n",
    "        inputs, labels = data\n",
    "\n",
    "        # Pass to GPU if available.\n",
    "        if torch.cuda.is_available():\n",
    "            inputs, labels = inputs.cuda(), labels.cuda()\n",
    "\n",
    "        # Zero out the gradients of the optimizer\n",
    "        optimizer.zero_grad()\n",
    "\n",
    "        # Get the outputs of your model and compute your loss\n",
    "        outputs = net(inputs)\n",
    "        loss = criterion(outputs, labels)\n",
    "\n",
    "        # Compute the loss gradient using the backward method and have the optimizer take a step\n",
    "        loss.backward()\n",
    "        optimizer.step()\n",
    "\n",
    "        # Compute the accuracy and print the accuracy and loss\n",
    "        _, preds = torch.max(outputs.data, 1)\n",
    "        train_correct += (preds == labels).sum().item()\n",
    "        train_loss += loss.item()\n",
    "    print(\n",
    "        f\"Epoch {epoch + 1} training accuracy: {train_correct/len(train_loader):.2f}% training loss: {train_loss/len(train_loader):.5f}\"\n",
    "    )\n",
    "    train_loss_history.append(train_loss / len(train_loader))\n",
    "\n",
    "    # The validation step is done for you.\n",
    "    val_loss = 0.0\n",
    "    val_correct = 0\n",
    "    net.eval()\n",
    "    for inputs, labels in test_loader:\n",
    "        if torch.cuda.is_available():\n",
    "            inputs, labels = inputs.cuda(), labels.cuda()\n",
    "\n",
    "        outputs = net(inputs)\n",
    "        loss = criterion(outputs, labels)\n",
    "\n",
    "        _, preds = torch.max(outputs.data, 1)\n",
    "        val_correct += (preds == labels).sum().item()\n",
    "        val_loss += loss.item()\n",
    "    print(\n",
    "        f\"Epoch {epoch + 1} validation accuracy: {val_correct/len(test_loader):.2f}% validation loss: {val_loss/len(test_loader):.5f}\"\n",
    "    )\n",
    "    val_loss_history.append(val_loss / len(test_loader))"
   ]
  },
  {
   "cell_type": "code",
   "execution_count": 6,
   "id": "aaabd64c",
   "metadata": {},
   "outputs": [
    {
     "data": {
      "image/png": "[encoded data removed]",
      "text/plain": [
       "<Figure size 640x480 with 1 Axes>"
      ]
     },
     "metadata": {},
     "output_type": "display_data"
    }
   ],
   "source": [
    "# Plot the training and validation loss history\n",
    "plt.plot(train_loss_history, label=\"Training Loss\")\n",
    "plt.plot(val_loss_history, label=\"Validation Loss\")\n",
    "plt.legend()\n",
    "plt.show()"
   ]
  },
  {
   "cell_type": "code",
   "execution_count": null,
   "id": "a010d583",
   "metadata": {},
   "outputs": [],
   "source": []
  }
 ],
 "metadata": {
  "kernelspec": {
   "display_name": "Python 3 (ipykernel)",
   "language": "python",
   "name": "python3"
  },
  "language_info": {
   "codemirror_mode": {
    "name": "ipython",
    "version": 3
   },
   "file_extension": ".py",
   "mimetype": "text/x-python",
   "name": "python",
   "nbconvert_exporter": "python",
   "pygments_lexer": "ipython3",
   "version": "3.9.9"
  }
 },
 "nbformat": 4,
 "nbformat_minor": 5
}
